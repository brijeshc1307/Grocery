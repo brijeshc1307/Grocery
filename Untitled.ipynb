{
 "cells": [
  {
   "cell_type": "code",
   "execution_count": 17,
   "id": "2af1077d",
   "metadata": {},
   "outputs": [
    {
     "name": "stdout",
     "output_type": "stream",
     "text": [
      "\n",
      " Select an option\n",
      "1. Add grocery items to the store\n",
      "2. Buy grocery items from the store\n",
      "3. Finish shopping and exit from the store\n"
     ]
    },
    {
     "name": "stdin",
     "output_type": "stream",
     "text": [
      "Enter the Choice: 1\n"
     ]
    },
    {
     "name": "stdout",
     "output_type": "stream",
     "text": [
      "You have selected option : 1. Add grocery items to the store\n",
      "Enter the item details in below format :\n",
      "Item Name, Price, Quantity\n"
     ]
    },
    {
     "name": "stdin",
     "output_type": "stream",
     "text": [
      " Glass,150,25\n"
     ]
    },
    {
     "name": "stdout",
     "output_type": "stream",
     "text": [
      "Do you want to Add more items in the store ? \n",
      " Please enter Yes/NO\n"
     ]
    },
    {
     "name": "stdin",
     "output_type": "stream",
     "text": [
      " Yes\n"
     ]
    },
    {
     "name": "stdout",
     "output_type": "stream",
     "text": [
      "Enter the item details in below format :\n",
      "Item Name, Price, Quantity\n"
     ]
    },
    {
     "name": "stdin",
     "output_type": "stream",
     "text": [
      " Iphone,500,15\n"
     ]
    },
    {
     "name": "stdout",
     "output_type": "stream",
     "text": [
      "Do you want to Add more items in the store ? \n",
      " Please enter Yes/NO\n"
     ]
    },
    {
     "name": "stdin",
     "output_type": "stream",
     "text": [
      " no\n"
     ]
    },
    {
     "name": "stdout",
     "output_type": "stream",
     "text": [
      "\n",
      " Select an option\n",
      "1. Add grocery items to the store\n",
      "2. Buy grocery items from the store\n",
      "3. Finish shopping and exit from the store\n"
     ]
    },
    {
     "name": "stdin",
     "output_type": "stream",
     "text": [
      "Enter the Choice: 2\n"
     ]
    },
    {
     "name": "stdout",
     "output_type": "stream",
     "text": [
      "You have selected option : 2. Buy grocery items from the store\n",
      "Enter the item details in below format :\n",
      "Item Name, Quantity\n"
     ]
    },
    {
     "name": "stdin",
     "output_type": "stream",
     "text": [
      " Oil,5\n"
     ]
    },
    {
     "name": "stdout",
     "output_type": "stream",
     "text": [
      "Do you want to Buy more items from the store ? \n",
      " Please enter Yes/NO\n"
     ]
    },
    {
     "name": "stdin",
     "output_type": "stream",
     "text": [
      " yes\n"
     ]
    },
    {
     "name": "stdout",
     "output_type": "stream",
     "text": [
      "Enter the item details in below format :\n",
      "Item Name, Quantity\n"
     ]
    },
    {
     "name": "stdin",
     "output_type": "stream",
     "text": [
      " Soap,3\n"
     ]
    },
    {
     "name": "stdout",
     "output_type": "stream",
     "text": [
      "Do you want to Buy more items from the store ? \n",
      " Please enter Yes/NO\n"
     ]
    },
    {
     "name": "stdin",
     "output_type": "stream",
     "text": [
      " no\n"
     ]
    },
    {
     "name": "stdout",
     "output_type": "stream",
     "text": [
      "\n",
      " Select an option\n",
      "1. Add grocery items to the store\n",
      "2. Buy grocery items from the store\n",
      "3. Finish shopping and exit from the store\n"
     ]
    },
    {
     "name": "stdin",
     "output_type": "stream",
     "text": [
      "Enter the Choice: 3\n"
     ]
    },
    {
     "name": "stdout",
     "output_type": "stream",
     "text": [
      "Thanks\n"
     ]
    }
   ],
   "source": [
    "import pandas as pd\n",
    "import numpy as np\n",
    "\n",
    "temp=0\n",
    "def add_grocery(lst):\n",
    "    df = pd.DataFrame([lst],columns=[\"Item\",\"Price\",\"Quantity\"])\n",
    "    df2 = pd.read_excel('grocery_store.xlsx')\n",
    "    df3 = df2.append(df, ignore_index=True)\n",
    "    df3.to_excel('grocery_store.xlsx',index=False)\n",
    "         \n",
    "def buy_grocery(lst):\n",
    "    global temp\n",
    "    if temp==0:\n",
    "        df = pd.read_excel('grocery_store.xlsx')\n",
    "        df2= pd.DataFrame([lst])\n",
    "        val=df.loc[df.Item ==  lst[0],'Quantity'].values[0]\n",
    "        pri = df.loc[df.Item ==  lst[0],'Price'].values[0]\n",
    "        pric = pri*int(lst[1])\n",
    "        df.loc[df[\"Item\"] == lst[0], \"Quantity\"] = val-int(lst[1])\n",
    "        df.to_excel('grocery_store_item_remain.xlsx',index=False)\n",
    "        lst.append(pric)\n",
    "        df3 = pd.DataFrame([lst],columns=[\"Item\",\"Price\",\"Quantity\"])\n",
    "        df3.to_excel('grocery_store_item_purchased.xlsx',index=False)\n",
    "        temp+=1\n",
    "    else:\n",
    "        df = pd.read_excel('grocery_store_item_remain.xlsx')\n",
    "        df2= pd.DataFrame([lst])\n",
    "        val=df.loc[df.Item ==  lst[0],'Quantity'].values[0]\n",
    "        pri = df.loc[df.Item ==  lst[0],'Price'].values[0]\n",
    "        pric = pri*int(lst[1])\n",
    "        df.loc[df[\"Item\"] == lst[0], \"Quantity\"] = val-int(lst[1])\n",
    "        df.to_excel('grocery_store_item_remain.xlsx',index=False)\n",
    "        lst.append(pric)\n",
    "        df3 = pd.DataFrame([lst],columns=[\"Item\",\"Price\",\"Quantity\"])\n",
    "        df4 = pd.read_excel('grocery_store_item_purchased.xlsx')\n",
    "        df3 = df4.append(df3, ignore_index=True)\n",
    "        df3.to_excel('grocery_store_item_purchased.xlsx',index=False)\n",
    "        \n",
    "\n",
    "  \n",
    "while True:  \n",
    "    print(\"\\n Select an option\")  \n",
    "    print(\"1. Add grocery items to the store\")  \n",
    "    print(\"2. Buy grocery items from the store\")  \n",
    "    print(\"3. Finish shopping and exit from the store\") \n",
    "    \n",
    "    choice = int(input(\"Enter the Choice:\"))  \n",
    "\n",
    "    if choice == 1:\n",
    "        print(\"You have selected option : 1. Add grocery items to the store\")\n",
    "        print(\"Enter the item details in below format :\")\n",
    "        print(\"Item Name, Price, Quantity\")\n",
    "        lst=input().split(\",\")\n",
    "        add_grocery(lst)\n",
    "        while True:\n",
    "            print(\"Do you want to Add more items in the store ? \\n Please enter Yes/NO\")\n",
    "            inp = input()\n",
    "            if inp == 'Yes' or inp == 'yes':\n",
    "                print(\"Enter the item details in below format :\")\n",
    "                print(\"Item Name, Price, Quantity\")\n",
    "                lst=input().split(\",\")\n",
    "                add_grocery(lst)\n",
    "            elif inp == 'No' or inp == 'no':\n",
    "                break;\n",
    "            else:\n",
    "                print(\"Oops! Incorrect Choice.\")\n",
    "    elif choice == 2:  \n",
    "        print(\"You have selected option : 2. Buy grocery items from the store\")\n",
    "        print(\"Enter the item details in below format :\")\n",
    "        print(\"Item Name, Quantity\")\n",
    "        lst = list(input().split(\",\"))   \n",
    "        buy_grocery(lst)\n",
    "        while True:\n",
    "            print(\"Do you want to Buy more items from the store ? \\n Please enter Yes/NO\")\n",
    "            inp = input()\n",
    "            if inp == 'Yes' or inp == 'yes':\n",
    "                print(\"Enter the item details in below format :\")\n",
    "                print(\"Item Name, Quantity\")\n",
    "                lst = list(input().split(\",\"))\n",
    "                buy_grocery(lst)\n",
    "            elif inp == 'No' or inp == 'no':\n",
    "                break;\n",
    "            else:\n",
    "                print(\"Oops! Incorrect Choice.\")\n",
    "        \n",
    "    elif choice == 3:\n",
    "        print(\"Thanks\")\n",
    "        break  \n",
    "          \n",
    "    else:  \n",
    "        print(\"Oops! Incorrect Choice.\")"
   ]
  },
  {
   "cell_type": "code",
   "execution_count": null,
   "id": "4b80b342-f6c8-49bd-8657-7ac9c5a06a3a",
   "metadata": {},
   "outputs": [],
   "source": []
  }
 ],
 "metadata": {
  "kernelspec": {
   "display_name": "Python 3 (ipykernel)",
   "language": "python",
   "name": "python3"
  },
  "language_info": {
   "codemirror_mode": {
    "name": "ipython",
    "version": 3
   },
   "file_extension": ".py",
   "mimetype": "text/x-python",
   "name": "python",
   "nbconvert_exporter": "python",
   "pygments_lexer": "ipython3",
   "version": "3.9.7"
  }
 },
 "nbformat": 4,
 "nbformat_minor": 5
}
